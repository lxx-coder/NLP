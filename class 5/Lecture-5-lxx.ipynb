{
 "cells": [
  {
   "cell_type": "code",
   "execution_count": 1,
   "metadata": {},
   "outputs": [],
   "source": [
    "import jieba"
   ]
  },
  {
   "cell_type": "code",
   "execution_count": 39,
   "metadata": {},
   "outputs": [],
   "source": [
    "def write_token_to_f(open_file, output_file):\n",
    "    words = []\n",
    "    i = 0;\n",
    "    for line in open(open_file,encoding='utf-8', errors='ignore'):\n",
    "        w = list(jieba.cut(line))\n",
    "        words += w + ['\\n']\n",
    "        if i > 1000: break\n",
    "        i+=1\n",
    "        \n",
    "        output_file.writelines(' '.join(words))"
   ]
  },
  {
   "cell_type": "code",
   "execution_count": 40,
   "metadata": {},
   "outputs": [],
   "source": [
    "import time"
   ]
  },
  {
   "cell_type": "code",
   "execution_count": 41,
   "metadata": {},
   "outputs": [],
   "source": [
    "target_file = r'D:/extracted/AA/std_zh_wiki_01'"
   ]
  },
  {
   "cell_type": "code",
   "execution_count": 42,
   "metadata": {},
   "outputs": [
    {
     "name": "stdout",
     "output_type": "stream",
     "text": [
      "used time 9.96105670928955\n"
     ]
    }
   ],
   "source": [
    "start = time.time()\n",
    "num = 0;\n",
    "with open('train_corpus.txt','w',encoding='utf-8') as output_f:\n",
    "    write_token_to_f(target_file,output_f)\n",
    "    \n",
    "end = time.time()\n",
    "print('used time {}'.format(end - start))"
   ]
  },
  {
   "cell_type": "code",
   "execution_count": 43,
   "metadata": {},
   "outputs": [],
   "source": [
    "from gensim.models import Word2Vec"
   ]
  },
  {
   "cell_type": "code",
   "execution_count": 44,
   "metadata": {},
   "outputs": [],
   "source": [
    "from gensim.models.word2vec import LineSentence"
   ]
  },
  {
   "cell_type": "code",
   "execution_count": 45,
   "metadata": {},
   "outputs": [
    {
     "name": "stdout",
     "output_type": "stream",
     "text": [
      "59.360639572143555\n"
     ]
    }
   ],
   "source": [
    "s = time.time()\n",
    "mini_model =Word2Vec(LineSentence('train_corpus.txt'),min_count=1,size=20)\n",
    "e = time.time()\n",
    "print(e-s)"
   ]
  },
  {
   "cell_type": "code",
   "execution_count": 51,
   "metadata": {},
   "outputs": [
    {
     "data": {
      "text/plain": [
       "array([ 0.41429368,  2.955684  ,  0.19888881, -4.6806703 ,  4.560047  ,\n",
       "       -5.1496325 ,  4.445375  , -0.42968306, -0.12039684, -0.57496786,\n",
       "        2.8669293 ,  2.0358152 , -0.6329161 ,  8.040683  ,  6.4522634 ,\n",
       "        0.75836635, -2.1090314 ,  0.3701349 ,  5.3532844 ,  2.1284633 ],\n",
       "      dtype=float32)"
      ]
     },
     "execution_count": 51,
     "metadata": {},
     "output_type": "execute_result"
    }
   ],
   "source": [
    "mini_model.wv['数学']"
   ]
  },
  {
   "cell_type": "code",
   "execution_count": 52,
   "metadata": {},
   "outputs": [
    {
     "name": "stderr",
     "output_type": "stream",
     "text": [
      "d:\\program files\\python\\python36\\lib\\site-packages\\ipykernel_launcher.py:1: DeprecationWarning: Call to deprecated `most_similar` (Method will be removed in 4.0.0, use self.wv.most_similar() instead).\n",
      "  \"\"\"Entry point for launching an IPython kernel.\n",
      "d:\\program files\\python\\python36\\lib\\site-packages\\gensim\\matutils.py:737: FutureWarning: Conversion of the second argument of issubdtype from `int` to `np.signedinteger` is deprecated. In future, it will be treated as `np.int32 == np.dtype(int).type`.\n",
      "  if np.issubdtype(vec.dtype, np.int):\n"
     ]
    },
    {
     "data": {
      "text/plain": [
       "[('林少驰', 0.7546883821487427),\n",
       " ('沿', 0.7112166881561279),\n",
       " ('底层', 0.7105519771575928),\n",
       " ('雅鲁藏布江', 0.6834203004837036),\n",
       " ('后期', 0.6784615516662598),\n",
       " ('触摸', 0.6647255420684814),\n",
       " ('毫无准备', 0.6536698937416077),\n",
       " ('祸根', 0.6509668827056885),\n",
       " ('年轻人', 0.6405177712440491),\n",
       " ('幸存', 0.6398025155067444)]"
      ]
     },
     "execution_count": 52,
     "metadata": {},
     "output_type": "execute_result"
    }
   ],
   "source": [
    "mini_model.most_similar('数学')"
   ]
  },
  {
   "cell_type": "code",
   "execution_count": 58,
   "metadata": {},
   "outputs": [],
   "source": [
    "from gensim.models import word2vec\n",
    "model = word2vec.Word2Vec.load('D:/extracted/AA/word2vecModel/WikiCHModel')"
   ]
  },
  {
   "cell_type": "code",
   "execution_count": 59,
   "metadata": {},
   "outputs": [
    {
     "data": {
      "text/plain": [
       "array([ 2.29087517e-01,  1.60780811e+00, -8.57864678e-01,  1.36734271e+00,\n",
       "       -1.73180714e-01, -8.90568554e-01, -1.83395946e+00,  2.90515232e+00,\n",
       "       -9.96347547e-01,  2.45819703e-01,  1.67961645e+00,  8.57528567e-01,\n",
       "        4.25150841e-01,  2.06545014e-02,  3.39268327e-01,  4.16933239e-01,\n",
       "       -4.24935808e-03, -1.90759766e+00, -1.44935369e+00,  2.07050964e-01,\n",
       "       -2.29434896e+00,  3.06550026e-01, -1.68476358e-01,  1.21854913e+00,\n",
       "       -8.88437703e-02, -9.98815149e-02, -1.11891592e+00,  4.00333524e-01,\n",
       "       -8.57696712e-01, -4.47329730e-01,  6.22983336e-01,  1.80726469e+00,\n",
       "        1.44805744e-01,  2.81314301e+00, -1.69088161e+00,  6.32204294e-01,\n",
       "       -8.40419710e-01,  1.73196220e+00,  2.30966377e+00, -1.34477448e+00,\n",
       "        5.46477968e-03, -1.82172966e+00, -2.87242174e-01, -8.46055746e-01,\n",
       "        7.53262281e-01,  1.16774261e+00, -2.42877340e+00,  2.53726169e-02,\n",
       "        7.62302458e-01,  2.74361193e-01,  3.57616961e-01,  1.45125079e+00,\n",
       "       -1.29580602e-01,  2.38583088e+00, -3.00427973e-01,  6.71419501e-01,\n",
       "        7.64444053e-01, -8.81376639e-02,  8.07056725e-02,  1.85510659e+00,\n",
       "        6.83773220e-01, -2.40998363e+00,  5.45519590e-01, -1.84983516e+00,\n",
       "       -1.38720834e+00,  1.60643196e+00,  1.52016997e+00, -1.21120524e+00,\n",
       "        1.82657707e+00, -1.69219053e+00, -9.70461249e-01, -8.93323660e-01,\n",
       "       -1.39220029e-01, -6.97307169e-01,  2.92479444e+00,  1.47075248e+00,\n",
       "        7.23286927e-01, -3.30964893e-01, -2.64947557e+00, -9.25698757e-01,\n",
       "        2.04784727e+00,  4.75814492e-01,  6.68437421e-01, -3.08673769e-01,\n",
       "        1.60370994e+00,  8.98765266e-01, -9.07919109e-01, -6.69833899e-01,\n",
       "        2.01162338e+00,  2.39872527e+00, -9.88919973e-01,  1.48608541e+00,\n",
       "       -1.29088891e+00,  3.00724912e+00, -1.57835913e+00, -1.04410350e+00,\n",
       "       -8.39560509e-01,  1.68816686e+00, -2.81595445e+00, -7.50934780e-01,\n",
       "        2.09118938e+00, -1.13555980e+00, -3.09391975e+00,  2.29322195e+00,\n",
       "       -2.76629543e+00, -5.26739657e-01,  1.36733329e+00, -1.63020015e+00,\n",
       "        2.18762803e+00,  6.93904519e-01, -7.26008058e-01, -1.11573601e+00,\n",
       "        3.89542043e-01, -1.96066737e-01,  1.70680299e-01, -4.69606876e+00,\n",
       "        9.57607254e-02,  2.30361700e+00, -1.55879664e+00, -3.58258820e+00,\n",
       "        1.84882498e+00,  1.19424593e+00, -1.12609494e+00, -3.22635460e+00,\n",
       "       -8.96760300e-02,  8.79530013e-01,  1.56899643e+00, -2.88217020e+00,\n",
       "       -4.74645883e-01,  7.62250870e-02,  1.20157421e+00, -6.69373214e-01,\n",
       "       -3.38079643e+00,  1.31316513e-01, -8.12463820e-01, -7.33396947e-01,\n",
       "        2.15828967e+00, -1.27142489e+00, -2.99496949e-01, -1.91452014e+00,\n",
       "       -1.00163209e+00,  1.82289529e+00,  2.15387917e+00,  3.29672605e-01,\n",
       "       -2.77659923e-01, -6.23464704e-01,  1.07071912e+00,  4.14169788e+00,\n",
       "        3.66462246e-02, -1.59705997e+00, -1.00289428e+00, -7.81099975e-01,\n",
       "        8.47604513e-01,  2.44596624e+00,  1.85943767e-01, -1.71251011e+00,\n",
       "        8.48839700e-01, -2.88469362e+00, -9.35887158e-01,  9.82791305e-01,\n",
       "       -1.22276127e+00,  9.70955491e-01,  5.63128531e-01, -2.21556082e-01,\n",
       "       -2.61617064e+00,  1.48105677e-02, -1.61701882e+00,  3.93709493e+00,\n",
       "       -2.68275589e-01, -5.01484275e-01,  1.56088603e+00, -1.88704312e+00,\n",
       "       -1.19922794e-01, -3.25411767e-01, -4.37896347e+00, -9.22185540e-01,\n",
       "       -1.19885600e+00, -1.99976993e+00, -2.33283210e+00, -2.20720351e-01,\n",
       "       -4.19073582e-01,  3.82014585e+00, -7.15799928e-01, -2.93613672e-02,\n",
       "       -6.29748642e-01, -1.43232179e+00, -2.73513287e-01, -1.34317946e+00,\n",
       "        3.37507963e-01,  6.86561406e-01, -4.71585661e-01,  2.45191202e-01,\n",
       "        2.16794848e+00,  6.86579108e-01,  3.76215458e+00, -3.05294681e+00,\n",
       "       -1.63888371e+00, -4.98985946e-01,  1.48289561e+00,  2.94382548e+00],\n",
       "      dtype=float32)"
      ]
     },
     "execution_count": 59,
     "metadata": {},
     "output_type": "execute_result"
    }
   ],
   "source": [
    "model.wv['数学']"
   ]
  },
  {
   "cell_type": "code",
   "execution_count": 63,
   "metadata": {},
   "outputs": [
    {
     "name": "stderr",
     "output_type": "stream",
     "text": [
      "d:\\program files\\python\\python36\\lib\\site-packages\\ipykernel_launcher.py:1: DeprecationWarning: Call to deprecated `most_similar` (Method will be removed in 4.0.0, use self.wv.most_similar() instead).\n",
      "  \"\"\"Entry point for launching an IPython kernel.\n",
      "d:\\program files\\python\\python36\\lib\\site-packages\\gensim\\matutils.py:737: FutureWarning: Conversion of the second argument of issubdtype from `int` to `np.signedinteger` is deprecated. In future, it will be treated as `np.int32 == np.dtype(int).type`.\n",
      "  if np.issubdtype(vec.dtype, np.int):\n"
     ]
    },
    {
     "data": {
      "text/plain": [
       "[('微积分', 0.8111758828163147),\n",
       " ('数学分析', 0.774560809135437),\n",
       " ('概率论', 0.7645288705825806),\n",
       " ('拓扑学', 0.7587210536003113),\n",
       " ('逻辑学', 0.7516272068023682),\n",
       " ('算术', 0.750694751739502),\n",
       " ('数理逻辑', 0.7474669218063354),\n",
       " ('数论', 0.7421294450759888),\n",
       " ('计算机科学', 0.7377482652664185),\n",
       " ('高等数学', 0.731116771697998)]"
      ]
     },
     "execution_count": 63,
     "metadata": {},
     "output_type": "execute_result"
    }
   ],
   "source": [
    "model.most_similar('数学')"
   ]
  },
  {
   "cell_type": "code",
   "execution_count": null,
   "metadata": {},
   "outputs": [],
   "source": []
  }
 ],
 "metadata": {
  "kernelspec": {
   "display_name": "Python 3",
   "language": "python",
   "name": "python3"
  },
  "language_info": {
   "codemirror_mode": {
    "name": "ipython",
    "version": 3
   },
   "file_extension": ".py",
   "mimetype": "text/x-python",
   "name": "python",
   "nbconvert_exporter": "python",
   "pygments_lexer": "ipython3",
   "version": "3.6.3"
  }
 },
 "nbformat": 4,
 "nbformat_minor": 2
}
